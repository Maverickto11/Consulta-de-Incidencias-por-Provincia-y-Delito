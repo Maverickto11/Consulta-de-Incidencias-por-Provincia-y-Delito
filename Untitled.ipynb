{
 "cells": [
  {
   "cell_type": "code",
   "execution_count": 2,
   "id": "50afb569-7e19-4bc3-a291-8da4b36daf3a",
   "metadata": {},
   "outputs": [],
   "source": [
    "import pandas as pd\n",
    "import openpyxl"
   ]
  },
  {
   "cell_type": "code",
   "execution_count": 3,
   "id": "38ada8df-cb7e-4fc0-ae96-65136b81ae39",
   "metadata": {},
   "outputs": [],
   "source": [
    "import matplotlib.pyplot as plt\n",
    "import ipywidgets as widgets\n",
    "\n",
    "df = pd.read_excel(\"/Users/maver/Desktop/python/delito.xlsx\")\n"
   ]
  },
  {
   "cell_type": "code",
   "execution_count": 1,
   "id": "391f2430",
   "metadata": {},
   "outputs": [
    {
     "data": {
      "application/vnd.jupyter.widget-view+json": {
       "model_id": "7dc4cbe7e494470298e466830a517abb",
       "version_major": 2,
       "version_minor": 0
      },
      "text/plain": [
       "interactive(children=(Dropdown(description='Provincia:', options=('Azuay', nan, 'Bolívar', 'Cañar', 'Carchi', …"
      ]
     },
     "execution_count": 1,
     "metadata": {},
     "output_type": "execute_result"
    }
   ],
   "source": [
    "import pandas as pd\n",
    "import matplotlib.pyplot as plt\n",
    "import ipywidgets as widgets\n",
    "from IPython.display import display\n",
    "import ipywidgets as widgets\n",
    "df = pd.read_excel(\"/Users/maver/Desktop/python/delito.xlsx\")\n",
    "\n",
    "# Supongamos que df ya está definido\n",
    "data = df\n",
    "\n",
    "# Crear un dropdown para seleccionar la provincia\n",
    "provincias = data[\"Provincia\"].unique()  # Obtén las provincias únicas del dataframe\n",
    "dropdown_provincia = widgets.Dropdown(\n",
    "    options=provincias,\n",
    "    description='Provincia:',\n",
    "    value=provincias[0]  # Valor por defecto\n",
    ")\n",
    "\n",
    "# Crear un dropdown para seleccionar el delito\n",
    "delitos = data[\"Delitos de mayor incidencia\"].unique()  # Obtén los delitos únicos del dataframe\n",
    "dropdown_delito = widgets.Dropdown(\n",
    "    options=delitos,\n",
    "    description='delito',\n",
    "    value=delitos[0]  # Valor por defecto\n",
    ")\n",
    "\n",
    "# Función para filtrar y graficar\n",
    "def graficar_evolucion(provincia_seleccionada, delito_seleccionado):\n",
    "    # Filtrar los datos para la provincia y delito seleccionados\n",
    "    filtro_provincia = data[\"Provincia\"] == provincia_seleccionada\n",
    "    filtro_delito = data[\"Delitos de mayor incidencia\"] == delito_seleccionado\n",
    "    datos_filtrados = data[filtro_provincia & filtro_delito].iloc[:, 2:]  # Seleccionar solo las columnas de meses\n",
    "\n",
    "    # Transponer los datos para organizar por mes en el índice y valores de incidentes\n",
    "    datos_filtrados = datos_filtrados.T\n",
    "    datos_filtrados.columns = [\"Incidentes\"]\n",
    "    datos_filtrados.index.name = \"Fecha\"\n",
    "\n",
    "    # Graficar la evolución temporal del delito\n",
    "    plt.figure(figsize=(14, 6))\n",
    "    plt.plot(datos_filtrados.index, datos_filtrados[\"Incidentes\"], color=\"skyblue\", marker=\"o\")\n",
    "    plt.title(f\"Evolución temporal de '{delito_seleccionado}' en {provincia_seleccionada}\")\n",
    "    plt.xlabel(\"Fecha\")\n",
    "    plt.ylabel(\"Número de Incidentes\")\n",
    "    plt.xticks(rotation=90)\n",
    "    plt.grid(axis='y', linestyle='--', alpha=0.7)\n",
    "    plt.tight_layout()\n",
    "    plt.show()\n",
    "\n",
    "# Conectar los dropdowns con la función de graficar\n",
    "widgets.interactive(graficar_evolucion, provincia_seleccionada=dropdown_provincia, delito_seleccionado=dropdown_delito)\n",
    "\n"
   ]
  },
  {
   "cell_type": "code",
   "execution_count": 5,
   "id": "637d2770",
   "metadata": {},
   "outputs": [
    {
     "name": "stdout",
     "output_type": "stream",
     "text": [
      "Columnas del DataFrame: Index([                  'Provincia', 'Delitos de mayor incidencia',\n",
      "                 2014-01-01 00:00:00,           2014-02-01 00:00:00,\n",
      "                 2014-03-01 00:00:00,           2014-04-01 00:00:00,\n",
      "                 2014-05-01 00:00:00,           2014-06-01 00:00:00,\n",
      "                 2014-07-01 00:00:00,           2014-08-01 00:00:00,\n",
      "       ...\n",
      "                 2023-10-01 00:00:00,           2023-11-01 00:00:00,\n",
      "                 2023-12-01 00:00:00,           2024-01-01 00:00:00,\n",
      "                 2024-02-01 00:00:00,           2024-03-01 00:00:00,\n",
      "                 2024-04-01 00:00:00,           2024-05-01 00:00:00,\n",
      "                 2024-06-01 00:00:00,           2024-07-01 00:00:00],\n",
      "      dtype='object', length=129)\n"
     ]
    },
    {
     "data": {
      "application/vnd.jupyter.widget-view+json": {
       "model_id": "55b230d5188a494cbc781f9efc8dc1d2",
       "version_major": 2,
       "version_minor": 0
      },
      "text/plain": [
       "interactive(children=(Dropdown(description='Provincia:', options=('Azuay', nan, 'Bolívar', 'Cañar', 'Carchi', …"
      ]
     },
     "execution_count": 5,
     "metadata": {},
     "output_type": "execute_result"
    }
   ],
   "source": [
    "import matplotlib.pyplot as plt\n",
    "import ipywidgets as widgets\n",
    "\n",
    "# Supongo que tienes un DataFrame llamado 'data'\n",
    "# y que 'dropdown_provincia' y 'dropdown_delito' ya están definidos\n",
    "\n",
    "# Verificar las columnas del DataFrame\n",
    "print(\"Columnas del DataFrame:\", data.columns)\n",
    "\n",
    "# Función para filtrar y graficar\n",
    "def graficar_evolucion(provincia_seleccionada, delito_seleccionado):\n",
    "    # Verificar si las columnas existen en el DataFrame\n",
    "    if 'Provincia' not in data.columns or 'Delitos de mayor incidencia' not in data.columns:\n",
    "        print(\"Error: Las columnas 'Provincia' o 'Delitos de mayor incidencia' no existen en el DataFrame.\")\n",
    "        return\n",
    "\n",
    "    # Filtrar los datos para la provincia y delito seleccionados\n",
    "    filtro_provincia = data[\"Provincia\"] == provincia_seleccionada\n",
    "    filtro_delito = data[\"Delitos de mayor incidencia\"] == delito_seleccionado\n",
    "    datos_filtrados = data[filtro_provincia & filtro_delito].iloc[:, 2:]  # Seleccionar solo las columnas de meses\n",
    "\n",
    "    # Depuración: Imprimir los datos filtrados y los valores seleccionados\n",
    "    print(f\"Provincia seleccionada: {provincia_seleccionada}\")\n",
    "    print(f\"Delito seleccionado: {delito_seleccionado}\")\n",
    "    print(f\"Datos filtrados:\\n{datos_filtrados}\")\n",
    "\n",
    "    if datos_filtrados.empty:\n",
    "        print(\"No hay datos para la combinación seleccionada.\")\n",
    "        return\n",
    "\n",
    "    # Transponer los datos para organizar por mes en el índice y valores de incidentes\n",
    "    datos_filtrados = datos_filtrados.T\n",
    "    datos_filtrados.columns = [\"Incidentes\"]\n",
    "    datos_filtrados.index.name = \"Fecha\"\n",
    "\n",
    "    # Graficar la evolución temporal del delito\n",
    "    plt.figure(figsize=(14, 6))\n",
    "    plt.plot(datos_filtrados.index, datos_filtrados[\"Incidentes\"], color=\"skyblue\", marker=\"o\")\n",
    "    plt.title(f\"Evolución temporal de '{delito_seleccionado}' en {provincia_seleccionada}\")\n",
    "    plt.xlabel(\"Fecha\")\n",
    "    plt.ylabel(\"Número de Incidentes\")\n",
    "    plt.xticks(rotation=90)\n",
    "    plt.grid(axis='y', linestyle='--', alpha=0.7)\n",
    "    plt.tight_layout()\n",
    "    plt.show()\n",
    "\n",
    "# Conectar los dropdowns con la función de graficar\n",
    "widgets.interactive(graficar_evolucion, provincia_seleccionada=dropdown_provincia, delito_seleccionado=dropdown_delito)"
   ]
  },
  {
   "cell_type": "code",
   "execution_count": null,
   "id": "f2516b44",
   "metadata": {},
   "outputs": [],
   "source": []
  }
 ],
 "metadata": {
  "kernelspec": {
   "display_name": "Python 3",
   "language": "python",
   "name": "python3"
  },
  "language_info": {
   "codemirror_mode": {
    "name": "ipython",
    "version": 3
   },
   "file_extension": ".py",
   "mimetype": "text/x-python",
   "name": "python",
   "nbconvert_exporter": "python",
   "pygments_lexer": "ipython3",
   "version": "3.13.0"
  }
 },
 "nbformat": 4,
 "nbformat_minor": 5
}

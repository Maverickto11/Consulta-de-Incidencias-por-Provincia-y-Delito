{
 "cells": [
  {
   "cell_type": "code",
   "execution_count": 2,
   "id": "50afb569-7e19-4bc3-a291-8da4b36daf3a",
   "metadata": {},
   "outputs": [],
   "source": [
    "import pandas as pd\n",
    "import openpyxl"
   ]
  },
  {
   "cell_type": "code",
   "execution_count": 3,
   "id": "38ada8df-cb7e-4fc0-ae96-65136b81ae39",
   "metadata": {},
   "outputs": [],
   "source": [
    "import matplotlib.pyplot as plt\n",
    "import seaborn as sns\n",
    "\n",
    "df = pd.read_excel(\"/Users/maver/Desktop/python/delito.xlsx\")\n"
   ]
  },
  {
   "cell_type": "code",
   "execution_count": 4,
   "id": "391f2430",
   "metadata": {},
   "outputs": [
    {
     "data": {
      "application/vnd.jupyter.widget-view+json": {
       "model_id": "70e8158033b44473978baf883f5781dd",
       "version_major": 2,
       "version_minor": 0
      },
      "text/plain": [
       "interactive(children=(Dropdown(description='Provincia:', options=('Azuay', nan, 'Bolívar', 'Cañar', 'Carchi', …"
      ]
     },
     "metadata": {},
     "output_type": "display_data"
    }
   ],
   "source": [
    "import pandas as pd\n",
    "import matplotlib.pyplot as plt\n",
    "import ipywidgets as widgets\n",
    "from IPython.display import display\n",
    "\n",
    "# Supongamos que df ya está definido\n",
    "data = df\n",
    "\n",
    "# Crear un dropdown para seleccionar la provincia\n",
    "provincias = data[\"Provincia\"].unique()  # Obtén las provincias únicas del dataframe\n",
    "dropdown_provincia = widgets.Dropdown(\n",
    "    options=provincias,\n",
    "    description='Provincia:',\n",
    "    value=provincias[0]  # Valor por defecto\n",
    ")\n",
    "\n",
    "# Crear un dropdown para seleccionar el delito\n",
    "delitos = data[\"Delitos de mayor incidencia\"].unique()  # Obtén los delitos únicos del dataframe\n",
    "dropdown_delito = widgets.Dropdown(\n",
    "    options=delitos,\n",
    "    description='delito',\n",
    "    value=delitos[0]  # Valor por defecto\n",
    ")\n",
    "\n",
    "# Función para filtrar y graficar\n",
    "def graficar_evolucion(provincia_seleccionada, delito_seleccionado):\n",
    "    # Filtrar los datos para la provincia y delito seleccionados\n",
    "    filtro_provincia = data[\"Provincia\"] == provincia_seleccionada\n",
    "    filtro_delito = data[\"Delitos de mayor incidencia\"] == delito_seleccionado\n",
    "    datos_filtrados = data[filtro_provincia & filtro_delito].iloc[:, 2:]  # Seleccionar solo las columnas de meses\n",
    "\n",
    "    # Transponer los datos para organizar por mes en el índice y valores de incidentes\n",
    "    datos_filtrados = datos_filtrados.T\n",
    "    datos_filtrados.columns = [\"Incidentes\"]\n",
    "    datos_filtrados.index.name = \"Fecha\"\n",
    "\n",
    "    # Graficar la evolución temporal del delito\n",
    "    plt.figure(figsize=(14, 6))\n",
    "    plt.plot(datos_filtrados.index, datos_filtrados[\"Incidentes\"], color=\"skyblue\", marker=\"o\")\n",
    "    plt.title(f\"Evolución temporal de '{delito_seleccionado}' en {provincia_seleccionada}\")\n",
    "    plt.xlabel(\"Fecha\")\n",
    "    plt.ylabel(\"Número de Incidentes\")\n",
    "    plt.xticks(rotation=90)\n",
    "    plt.grid(axis='y', linestyle='--', alpha=0.7)\n",
    "    plt.tight_layout()\n",
    "    plt.show()\n",
    "\n",
    "# Conectar los dropdowns con la función de graficar\n",
    "widgets.interactive(graficar_evolucion, provincia_seleccionada=dropdown_provincia, delito_seleccionado=dropdown_delito)\n",
    "\n"
   ]
  },
  {
   "cell_type": "code",
   "execution_count": 1,
   "id": "637d2770",
   "metadata": {},
   "outputs": [
    {
     "ename": "NameError",
     "evalue": "name 'data' is not defined",
     "output_type": "error",
     "traceback": [
      "\u001b[1;31m---------------------------------------------------------------------------\u001b[0m",
      "\u001b[1;31mNameError\u001b[0m                                 Traceback (most recent call last)",
      "Cell \u001b[1;32mIn[1], line 8\u001b[0m\n\u001b[0;32m      2\u001b[0m \u001b[38;5;28;01mimport\u001b[39;00m \u001b[38;5;21;01mipywidgets\u001b[39;00m \u001b[38;5;28;01mas\u001b[39;00m \u001b[38;5;21;01mwidgets\u001b[39;00m\n\u001b[0;32m      4\u001b[0m \u001b[38;5;66;03m# Supongo que tienes un DataFrame llamado 'data'\u001b[39;00m\n\u001b[0;32m      5\u001b[0m \u001b[38;5;66;03m# y que 'dropdown_provincia' y 'dropdown_delito' ya están definidos\u001b[39;00m\n\u001b[0;32m      6\u001b[0m \n\u001b[0;32m      7\u001b[0m \u001b[38;5;66;03m# Verificar las columnas del DataFrame\u001b[39;00m\n\u001b[1;32m----> 8\u001b[0m \u001b[38;5;28mprint\u001b[39m(\u001b[38;5;124m\"\u001b[39m\u001b[38;5;124mColumnas del DataFrame:\u001b[39m\u001b[38;5;124m\"\u001b[39m, data\u001b[38;5;241m.\u001b[39mcolumns)\n\u001b[0;32m     10\u001b[0m \u001b[38;5;66;03m# Función para filtrar y graficar\u001b[39;00m\n\u001b[0;32m     11\u001b[0m \u001b[38;5;28;01mdef\u001b[39;00m \u001b[38;5;21mgraficar_evolucion\u001b[39m(provincia_seleccionada, delito_seleccionado):\n\u001b[0;32m     12\u001b[0m     \u001b[38;5;66;03m# Verificar si las columnas existen en el DataFrame\u001b[39;00m\n",
      "\u001b[1;31mNameError\u001b[0m: name 'data' is not defined"
     ]
    }
   ],
   "source": [
    "import matplotlib.pyplot as plt\n",
    "import ipywidgets as widgets\n",
    "\n",
    "# Supongo que tienes un DataFrame llamado 'data'\n",
    "# y que 'dropdown_provincia' y 'dropdown_delito' ya están definidos\n",
    "\n",
    "# Verificar las columnas del DataFrame\n",
    "print(\"Columnas del DataFrame:\", data.columns)\n",
    "\n",
    "# Función para filtrar y graficar\n",
    "def graficar_evolucion(provincia_seleccionada, delito_seleccionado):\n",
    "    # Verificar si las columnas existen en el DataFrame\n",
    "    if 'Provincia' not in data.columns or 'Delitos de mayor incidencia' not in data.columns:\n",
    "        print(\"Error: Las columnas 'Provincia' o 'Delitos de mayor incidencia' no existen en el DataFrame.\")\n",
    "        return\n",
    "\n",
    "    # Filtrar los datos para la provincia y delito seleccionados\n",
    "    filtro_provincia = data[\"Provincia\"] == provincia_seleccionada\n",
    "    filtro_delito = data[\"Delitos de mayor incidencia\"] == delito_seleccionado\n",
    "    datos_filtrados = data[filtro_provincia & filtro_delito].iloc[:, 2:]  # Seleccionar solo las columnas de meses\n",
    "\n",
    "    # Depuración: Imprimir los datos filtrados y los valores seleccionados\n",
    "    print(f\"Provincia seleccionada: {provincia_seleccionada}\")\n",
    "    print(f\"Delito seleccionado: {delito_seleccionado}\")\n",
    "    print(f\"Datos filtrados:\\n{datos_filtrados}\")\n",
    "\n",
    "    if datos_filtrados.empty:\n",
    "        print(\"No hay datos para la combinación seleccionada.\")\n",
    "        return\n",
    "\n",
    "    # Transponer los datos para organizar por mes en el índice y valores de incidentes\n",
    "    datos_filtrados = datos_filtrados.T\n",
    "    datos_filtrados.columns = [\"Incidentes\"]\n",
    "    datos_filtrados.index.name = \"Fecha\"\n",
    "\n",
    "    # Graficar la evolución temporal del delito\n",
    "    plt.figure(figsize=(14, 6))\n",
    "    plt.plot(datos_filtrados.index, datos_filtrados[\"Incidentes\"], color=\"skyblue\", marker=\"o\")\n",
    "    plt.title(f\"Evolución temporal de '{delito_seleccionado}' en {provincia_seleccionada}\")\n",
    "    plt.xlabel(\"Fecha\")\n",
    "    plt.ylabel(\"Número de Incidentes\")\n",
    "    plt.xticks(rotation=90)\n",
    "    plt.grid(axis='y', linestyle='--', alpha=0.7)\n",
    "    plt.tight_layout()\n",
    "    plt.show()\n",
    "\n",
    "# Conectar los dropdowns con la función de graficar\n",
    "widgets.interactive(graficar_evolucion, provincia_seleccionada=dropdown_provincia, delito_seleccionado=dropdown_delito)"
   ]
  }
 ],
 "metadata": {
  "kernelspec": {
   "display_name": "base",
   "language": "python",
   "name": "python3"
  },
  "language_info": {
   "codemirror_mode": {
    "name": "ipython",
    "version": 3
   },
   "file_extension": ".py",
   "mimetype": "text/x-python",
   "name": "python",
   "nbconvert_exporter": "python",
   "pygments_lexer": "ipython3",
   "version": "3.12.7"
  }
 },
 "nbformat": 4,
 "nbformat_minor": 5
}
